{
 "cells": [
  {
   "cell_type": "code",
   "execution_count": 1,
   "metadata": {},
   "outputs": [],
   "source": [
    "import os\n",
    "import pandas as pd"
   ]
  },
  {
   "cell_type": "code",
   "execution_count": 3,
   "metadata": {},
   "outputs": [],
   "source": [
    "if __name__ == '__main__':\n",
    "\n",
    "    INPUT_DIR = '../data/results_processados/'\n",
    "\n",
    "    # Abrir Arquivos em Formato CSV (.csv)\n",
    "    for filename in os.listdir(INPUT_DIR):\n",
    "        if filename.endswith('.csv'):\n",
    "            \n",
    "            df = pd.read_csv(INPUT_DIR + filename, encoding='utf8', names=['Id', 'Message'], skiprows=1)\n",
    "            \n",
    "            df['Labels'] = df['Message'].apply(lambda s: len(str(s).split()) * 'O ')\n",
    "            \n",
    "            filename = filename.replace('.csv', '')\n",
    "            \n",
    "            # Salva o DataFrame em formato CSV\n",
    "            df.to_csv(r'../data/results_processados_labels/{}_rotulados.csv'.format(filename), index=False, header=True, encoding='utf8')"
   ]
  },
  {
   "cell_type": "markdown",
   "metadata": {},
   "source": [
    "---"
   ]
  }
 ],
 "metadata": {
  "kernelspec": {
   "display_name": "Python 3",
   "language": "python",
   "name": "python3"
  },
  "language_info": {
   "codemirror_mode": {
    "name": "ipython",
    "version": 3
   },
   "file_extension": ".py",
   "mimetype": "text/x-python",
   "name": "python",
   "nbconvert_exporter": "python",
   "pygments_lexer": "ipython3",
   "version": "3.8.3"
  }
 },
 "nbformat": 4,
 "nbformat_minor": 4
}
